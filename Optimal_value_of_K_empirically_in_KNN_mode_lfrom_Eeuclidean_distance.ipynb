{
 "cells": [
  {
   "cell_type": "markdown",
   "id": "32c8d779",
   "metadata": {},
   "source": [
    "# Data with class labels"
   ]
  },
  {
   "cell_type": "code",
   "execution_count": 79,
   "id": "d62e82bc",
   "metadata": {},
   "outputs": [],
   "source": [
    "import pandas as pd\n",
    "import numpy as np\n",
    "import matplotlib.pyplot as plt"
   ]
  },
  {
   "cell_type": "code",
   "execution_count": 80,
   "id": "488e9377",
   "metadata": {},
   "outputs": [],
   "source": [
    "#Insert the distance martrix\n",
    "data = [\n",
    "[0,1.5,1.4,1.6,1.7,1.3,1.6,1.5,1.4,2.3,2.9,3.2,3.3,3.4,4.2,4.1,5.9,6.1,6.0],\n",
    "[1.5,0,1.6,1.4,1.4,1.4,1.3,1.4,1.3,2.4,2.8,3.3,3.4,3.2,4.1,4.1,6.2,6.3,6.1],\n",
    "[1.4,1.6,0,1.3,1.5,1.4,1.4,1.6,1.4,2.5,2.9,3.2,3.2,3.5,4.1,4.1,6.2,6.2,6.2], \n",
    "[1.6,1.4,1.3,0,1.5,1.5,1.4,1.3,1.5,2.3,3.0,3.1,3.2,3.4,4.1,4.1,5.8,5.8,5.8], \n",
    "[1.7,1.4,1.5,1.5,0,1.4,1.5,1.7,1.2,2.6,2.9,3.3,3.3,3.7,4.1,4.1,6.1,6.1,6.1],\n",
    "[1.3,1.4,1.4,1.5,1.4,0,1.8,1.6,1.4,2.7,3.1,3.4,3.4,3.5,4.1,4.1,6.0,6.0,6.0],\n",
    "[1.6,1.3,1.4,1.4,1.5,1.8,0,1.4,1.3,2.8,2.9,3.3,3.2,3.6,4.1,4.1,6.1,6.1,6.1],\n",
    "[1.5,1.4,1.6,1.3,1.7,1.6,1.4,0,1.5,2.7,3.1,3.4,3.3,3.3,4.1,4.1,5.9,5.9,5.9],\n",
    "[1.4,1.3,1.4,1.5,1.2,1.4,1.3,1.5,0,3.1,3.0,3.5,3.5,3.5,4.1,4.1,5.8,5.8,5.8],\n",
    "[2.3,2.4,2.5,2.3,2.6,2.7,2.8,2.7,3.1,0,1.5,3.3,3.6,3.6,4.1,4.1,6.0,6.0,6.0],\n",
    "[2.9,2.8,2.9,3.0,2.9,3.1,2.9,3.1,3.0,1.5,0,1.6,1.4,1.5,1.7,1.6,2.3,3.1,3.0],\n",
    "[3.2,3.3,3.2,3.1,3.3,3.4,3.3,3.4,3.5,3.3,1.6,0,1.7,1.8,1.6,1.5,2.3,2.7,2.9],\n",
    "[3.3,3.4,3.2,3.2,3.3,3.4,3.2,3.3,3.5,3.6,1.4,1.7,0,0.5,0.3,0.4,2.5,2.6,2.7],\n",
    "[3.4,3.2,3.5,3.4,3.7,3.5,3.6,3.3,3.5,3.6,1.5,1.8,0.5,0,0.5,0.5,2.3,2.3,2.4],\n",
    "[4.2,4.1,4.1,4.1,4.1,4.1,4.1,4.1,4.1,4.1,1.7,1.6,0.3,0.5,0,0.4,2.4,2.5,2.5],\n",
    "[4.1,4.1,4.1,4.1,4.1,4.1,4.1,4.1,4.1,4.1,1.6,1.5,0.4,0.5,0.4,0,2.5,2.6,2.8],\n",
    "[5.9,6.2,6.2,5.8,6.1,6.0,6.1,5.9,5.8,6.0,2.3,2.3,2.5,2.3,2.4,2.5,0,3.0,3.1],\n",
    "[6.1,6.3,6.2,5.8,6.1,6.0,6.1,5.9,5.8,6.0,3.1,2.7,2.6,2.3,2.5,2.6,3.0,0,0.4],\n",
    "[6.0,6.1,6.2,5.8,6.1,6.0,6.1,5.9,5.8,6.0,3.0,2.9,2.7,2.4,2.5,2.8,3.1,0.4,0]\n",
    "]\n"
   ]
  },
  {
   "cell_type": "code",
   "execution_count": 81,
   "id": "4544f759",
   "metadata": {},
   "outputs": [],
   "source": [
    "Original_Samples_Class1=[1,2,5,6,9,10,13,14,17,18]\n",
    "Original_Samples_Class2=[3,4,7,8,11,12,15,16,19]"
   ]
  },
  {
   "cell_type": "code",
   "execution_count": 86,
   "id": "c828461e",
   "metadata": {},
   "outputs": [],
   "source": [
    "train_class=[1, 5, 9, 13,17,3,7,11,15,19]\n",
    "test_class=[2,6,10,14,18,4,8,12,16]\n",
    "differ_k=[1,2,3,4,5,6,7,8,9,10]"
   ]
  },
  {
   "cell_type": "code",
   "execution_count": 87,
   "id": "e78f3d34",
   "metadata": {},
   "outputs": [],
   "source": [
    "test_error=[]\n",
    "for k in differ_k:\n",
    "    match=0\n",
    "    not_match=0\n",
    "    for pnt in test_class:\n",
    "        dist_calc={}\n",
    "        for point in train_class:\n",
    "                  dist_calc[point] = data[pnt-1][point-1] \n",
    "        marklist=sorted((value, key) for (key,value) in dist_calc.items())\n",
    "        knn_dict = dict()\n",
    "        count = 1\n",
    "        for val in sortednn.keys():\n",
    "            if count>k:\n",
    "                break\n",
    "            knn_dict[val] = sortednn[val]\n",
    "            count = count +1\n",
    "        c1_count = 0\n",
    "        c2_count = 0\n",
    "        for nn in knn_dict.keys():\n",
    "            if nn in Original_Samples_Class1:\n",
    "                c1_count = c1_count+1\n",
    "            else:\n",
    "                c2_count = c2_count+1\n",
    "        if c1_count>c2_count:\n",
    "            predict_class = 1\n",
    "        else:\n",
    "            predict_class = 2   \n",
    "        if pnt in Original_Samples_Class1:\n",
    "            origin_class = 1\n",
    "        else:\n",
    "            origin_class = 2\n",
    "        \n",
    "        if predict_class == origin_class:\n",
    "            match_count = match + 1\n",
    "        else:\n",
    "            not_match = not_match + 1\n",
    "        \n",
    "    error = not_match/len(test_class)\n",
    "    test_error.append(error)\n"
   ]
  },
  {
   "cell_type": "code",
   "execution_count": 88,
   "id": "fdde51a9",
   "metadata": {},
   "outputs": [],
   "source": [
    "train_error = []\n",
    "for k in differ_k:\n",
    "    match=0\n",
    "    not_match=0\n",
    "    for pnt in train_class:\n",
    "        dist_calc = {}\n",
    "        for point in train_class: \n",
    "            dist_calc[point] = data[pnt-1][point-1]\n",
    "        \n",
    "        marklist=sorted((value, key) for (key,value) in dist_calc.items())\n",
    "        sortednn=dict([(k,v) for v,k in marklist])\n",
    "       \n",
    "        knn_dict = dict()\n",
    "        count = 1\n",
    "        for val in sortednn.keys():\n",
    "            if count>k:\n",
    "                break\n",
    "            knn_dict[val] = sortednn[val]\n",
    "            count = count +1\n",
    "       \n",
    "        c1_count = 0\n",
    "        c2_count = 0\n",
    "        for nn in knn_dict.keys():\n",
    "            if nn in Original_Samples_Class1:\n",
    "                c1_count = c1_count+1\n",
    "            else:\n",
    "                c2_count = c2_count+1\n",
    "        \n",
    "        if c1_count>c2_count:\n",
    "            predict_class = 1\n",
    "        else:\n",
    "            predict_class = 2\n",
    "         \n",
    "        if pnt in Original_Samples_Class1:\n",
    "            origin_class = 1\n",
    "        else:\n",
    "            origin_class = 2\n",
    "        \n",
    "        if predict_class == origin_class:\n",
    "            match = match + 1\n",
    "        else:\n",
    "            not_match = not_match + 1\n",
    "        \n",
    "    error = not_match/len(train_class)\n",
    "    train_error.append(error)\n",
    " "
   ]
  },
  {
   "cell_type": "code",
   "execution_count": 89,
   "id": "98dff05f",
   "metadata": {},
   "outputs": [
    {
     "name": "stderr",
     "output_type": "stream",
     "text": [
      "c:\\users\\alif\\appdata\\local\\programs\\python\\python37\\lib\\site-packages\\ipykernel_launcher.py:2: UserWarning: linestyle is redundantly defined by the 'linestyle' keyword argument and the fmt string \"-or\" (-> linestyle='-'). The keyword argument will take precedence.\n",
      "  \n",
      "c:\\users\\alif\\appdata\\local\\programs\\python\\python37\\lib\\site-packages\\ipykernel_launcher.py:2: UserWarning: marker is redundantly defined by the 'marker' keyword argument and the fmt string \"-or\" (-> marker='o'). The keyword argument will take precedence.\n",
      "  \n",
      "c:\\users\\alif\\appdata\\local\\programs\\python\\python37\\lib\\site-packages\\ipykernel_launcher.py:4: UserWarning: linestyle is redundantly defined by the 'linestyle' keyword argument and the fmt string \"-ob\" (-> linestyle='-'). The keyword argument will take precedence.\n",
      "  after removing the cwd from sys.path.\n",
      "c:\\users\\alif\\appdata\\local\\programs\\python\\python37\\lib\\site-packages\\ipykernel_launcher.py:4: UserWarning: marker is redundantly defined by the 'marker' keyword argument and the fmt string \"-ob\" (-> marker='o'). The keyword argument will take precedence.\n",
      "  after removing the cwd from sys.path.\n"
     ]
    },
    {
     "data": {
      "image/png": "[encoded data removed]",
      "text/plain": [
       "<Figure size 640x480 with 1 Axes>"
      ]
     },
     "metadata": {},
     "output_type": "display_data"
    }
   ],
   "source": [
    "plt.plot(differ_k,train_error,'-or',label='Train error',linestyle='dashed', \n",
    "         marker='o',markerfacecolor='red', markersize=10)\n",
    "plt.plot(differ_k,test_error,'-ob',label='Test error',linestyle='dashed', \n",
    "         marker='o',markerfacecolor='red', markersize=10 )\n",
    "\n",
    "plt.xlabel(\"k\") \n",
    "plt.ylabel(\"Error\") \n",
    "plt.title(\"Model Complexity\") \n",
    "plt.legend() \n",
    "plt.show() "
   ]
  },
  {
   "cell_type": "code",
   "execution_count": null,
   "id": "4a111c69",
   "metadata": {},
   "outputs": [],
   "source": []
  },
  {
   "cell_type": "code",
   "execution_count": null,
   "id": "3d47cfd4",
   "metadata": {},
   "outputs": [],
   "source": []
  }
 ],
 "metadata": {
  "kernelspec": {
   "display_name": "Python 3 (ipykernel)",
   "language": "python",
   "name": "python3"
  },
  "language_info": {
   "codemirror_mode": {
    "name": "ipython",
    "version": 3
   },
   "file_extension": ".py",
   "mimetype": "text/x-python",
   "name": "python",
   "nbconvert_exporter": "python",
   "pygments_lexer": "ipython3",
   "version": "3.7.0"
  }
 },
 "nbformat": 4,
 "nbformat_minor": 5
}
